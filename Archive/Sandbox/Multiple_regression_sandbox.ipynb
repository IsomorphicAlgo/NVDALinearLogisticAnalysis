{
 "cells": [
  {
   "cell_type": "code",
   "execution_count": 1,
   "metadata": {},
   "outputs": [],
   "source": [
    "import requests\n",
    "import pandas as pd\n",
    "import json\n",
    "import mysql.connector\n",
    "from datetime import datetime, timedelta\n",
    "import time\n",
    "import nvda_config1\n",
    "\n",
    "import twelvedata\n",
    "from twelvedata import TDClient"
   ]
  },
  {
   "cell_type": "code",
   "execution_count": 2,
   "metadata": {},
   "outputs": [],
   "source": [
    "# Including this login info just in case \n",
    "Cpassword = nvda_config1.mysql_password\n",
    "td = TDClient(apikey=nvda_config1.twelve_api_nvda) \n",
    "base_url = 'https://api.twelvedata.com'\n",
    "\n",
    "# Establish MySQL object\n",
    "mydb = mysql.connector.connect(\n",
    "    host=\"localhost\",   \n",
    "    user=\"root\",         \n",
    "    password=Cpassword,  \n",
    "    database=\"nvdav1\"   \n",
    ")\n",
    "\n",
    "mycursor = mydb.cursor()\n",
    "\n"
   ]
  },
  {
   "cell_type": "code",
   "execution_count": 3,
   "metadata": {},
   "outputs": [
    {
     "name": "stdout",
     "output_type": "stream",
     "text": [
      "Stock Data:\n",
      "   id symbol             datetime    open    high     low   close   volume\n",
      "0   1   NVDA  2024-07-19 15:59:00  118.01  118.20  117.95  117.99  3212446\n",
      "1   2   NVDA  2024-07-19 15:58:00  117.93  118.07  117.92  118.01  1192224\n",
      "2   3   NVDA  2024-07-19 15:57:00  117.86  118.00  117.83  117.94   905114\n",
      "3   4   NVDA  2024-07-19 15:56:00  117.87  117.90  117.80  117.86   770476\n",
      "4   5   NVDA  2024-07-19 15:55:00  117.88  118.08  117.84  117.86  1034337\n",
      "\n",
      "Technical Indicators Data:\n",
      "   id symbol           bydatetime     macd  bysignal  byhistogram     ema  \\\n",
      "0   1   NVDA  2024-07-19 15:59:00 -0.09599  -0.11612      0.02013  117.95   \n",
      "1   2   NVDA  2024-07-19 15:58:00 -0.10684  -0.12115      0.01432  117.94   \n",
      "2   3   NVDA  2024-07-19 15:57:00 -0.12065  -0.12473      0.00409  117.92   \n",
      "3   4   NVDA  2024-07-19 15:56:00 -0.12939  -0.12575     -0.00364  117.92   \n",
      "4   5   NVDA  2024-07-19 15:55:00 -0.13053  -0.12484     -0.00569  117.93   \n",
      "\n",
      "     rsi  \n",
      "0  46.19  \n",
      "1  46.89  \n",
      "2  43.18  \n",
      "3  38.64  \n",
      "4  38.82  \n"
     ]
    }
   ],
   "source": [
    "# Read CSV files and create pandas dataframes\n",
    "df_stock = pd.read_csv('C:/Users/micha/OneDrive/Desktop/NVDALinearLogisticAnalysis/stock_ticks.csv')\n",
    "df_ti = pd.read_csv('C:/Users/micha/OneDrive/Desktop/NVDALinearLogisticAnalysis/technical_indicators.csv')\n",
    "\n",
    "# Display the first few rows of each dataframe to verify the data\n",
    "print(\"Stock Data:\")\n",
    "print(df_stock.head())\n",
    "print(\"\\nTechnical Indicators Data:\")\n",
    "print(df_ti.head())\n"
   ]
  },
  {
   "cell_type": "code",
   "execution_count": null,
   "metadata": {},
   "outputs": [],
   "source": []
  }
 ],
 "metadata": {
  "kernelspec": {
   "display_name": "Python 3",
   "language": "python",
   "name": "python3"
  },
  "language_info": {
   "codemirror_mode": {
    "name": "ipython",
    "version": 3
   },
   "file_extension": ".py",
   "mimetype": "text/x-python",
   "name": "python",
   "nbconvert_exporter": "python",
   "pygments_lexer": "ipython3",
   "version": "3.12.4"
  }
 },
 "nbformat": 4,
 "nbformat_minor": 2
}
