{
 "cells": [
  {
   "cell_type": "code",
   "execution_count": 6,
   "metadata": {},
   "outputs": [],
   "source": [
    "import requests\n",
    "import pandas as pd\n",
    "import json\n",
    "import mysql.connector\n",
    "from datetime import datetime, timedelta\n",
    "import time\n",
    "import nvda_config1\n",
    "\n",
    "import twelvedata\n",
    "from twelvedata import TDClient\n"
   ]
  },
  {
   "cell_type": "code",
   "execution_count": 7,
   "metadata": {},
   "outputs": [],
   "source": [
    "# set up login\n",
    "Cpassword = nvda_config1.mysql_password\n",
    "td = TDClient(apikey=nvda_config1.twelve_api_nvda) \n",
    "base_url = 'https://api.twelvedata.com'\n",
    "\n",
    "# Establish MySQL object\n",
    "mydb = mysql.connector.connect(\n",
    "    host=\"localhost\",   \n",
    "    user=\"root\",         \n",
    "    password=Cpassword,  \n",
    "    database=\"nvdav1\"   \n",
    ")\n",
    "\n",
    "mycursor = mydb.cursor()\n",
    "\n",
    "# Twelve Data API parameters\n",
    "symbol = \"NVDA\"\n",
    "interval = \"1min\"\n",
    "outputsize = 5000  "
   ]
  },
  {
   "cell_type": "code",
   "execution_count": 10,
   "metadata": {},
   "outputs": [
    {
     "name": "stderr",
     "output_type": "stream",
     "text": [
      "C:\\Users\\micha\\AppData\\Local\\Packages\\PythonSoftwareFoundation.Python.3.11_qbz5n2kfra8p0\\LocalCache\\local-packages\\Python311\\site-packages\\twelvedata\\mixins.py:69: FutureWarning: errors='ignore' is deprecated and will raise in a future version. Use to_numeric without passing `errors` and catch exceptions explicitly instead\n",
      "  df[col] = pd.to_numeric(df[col], errors=\"ignore\")\n",
      "C:\\Users\\micha\\AppData\\Local\\Packages\\PythonSoftwareFoundation.Python.3.11_qbz5n2kfra8p0\\LocalCache\\local-packages\\Python311\\site-packages\\twelvedata\\mixins.py:69: FutureWarning: errors='ignore' is deprecated and will raise in a future version. Use to_numeric without passing `errors` and catch exceptions explicitly instead\n",
      "  df[col] = pd.to_numeric(df[col], errors=\"ignore\")\n",
      "C:\\Users\\micha\\AppData\\Local\\Packages\\PythonSoftwareFoundation.Python.3.11_qbz5n2kfra8p0\\LocalCache\\local-packages\\Python311\\site-packages\\twelvedata\\mixins.py:69: FutureWarning: errors='ignore' is deprecated and will raise in a future version. Use to_numeric without passing `errors` and catch exceptions explicitly instead\n",
      "  df[col] = pd.to_numeric(df[col], errors=\"ignore\")\n"
     ]
    },
    {
     "name": "stdout",
     "output_type": "stream",
     "text": [
      "                         open    high     low    close   volume     macd  \\\n",
      "datetime                                                                   \n",
      "2024-07-23 15:59:00  122.4850  122.63  122.37  122.430  1920003 -0.09465   \n",
      "2024-07-23 15:58:00  122.5601  122.61  122.47  122.490   656363 -0.09316   \n",
      "2024-07-23 15:57:00  122.4399  122.64  122.40  122.550   660433 -0.09600   \n",
      "2024-07-23 15:56:00  122.4500  122.48  122.33  122.425   390742 -0.10435   \n",
      "2024-07-23 15:55:00  122.2500  122.60  122.24  122.440   633110 -0.10075   \n",
      "\n",
      "                     macd_signal  macd_hist        ema       rsi  \n",
      "datetime                                                          \n",
      "2024-07-23 15:59:00     -0.08140   -0.01326  122.49274  40.86860  \n",
      "2024-07-23 15:58:00     -0.07808   -0.01508  122.50842  43.20629  \n",
      "2024-07-23 15:57:00     -0.07431   -0.02169  122.51303  45.63022  \n",
      "2024-07-23 15:56:00     -0.06889   -0.03546  122.50378  39.01178  \n",
      "2024-07-23 15:55:00     -0.06002   -0.04073  122.52348  39.54820  \n"
     ]
    },
    {
     "name": "stderr",
     "output_type": "stream",
     "text": [
      "C:\\Users\\micha\\AppData\\Local\\Packages\\PythonSoftwareFoundation.Python.3.11_qbz5n2kfra8p0\\LocalCache\\local-packages\\Python311\\site-packages\\twelvedata\\mixins.py:69: FutureWarning: errors='ignore' is deprecated and will raise in a future version. Use to_numeric without passing `errors` and catch exceptions explicitly instead\n",
      "  df[col] = pd.to_numeric(df[col], errors=\"ignore\")\n"
     ]
    }
   ],
   "source": [
    "# test a time_series request for 1 day. This spot is to verify the previous day is correct.\n",
    "end_date = datetime.now()\n",
    "start_date = end_date - timedelta(days=1) \n",
    "test_time_series = td.time_series(\n",
    "        symbol=symbol,\n",
    "        interval=interval,\n",
    "        outputsize=outputsize,\n",
    "        start_date=start_date.strftime(\"%Y-%m-%d\"),\n",
    "        end_date=end_date.strftime(\"%Y-%m-%d\"),\n",
    "    ).with_macd().with_ema().with_rsi()\n",
    " # Convert to pandas Dataframes\n",
    "time_series_df = test_time_series.as_pandas()\n",
    "print(time_series_df.head(5))\n"
   ]
  },
  {
   "cell_type": "code",
   "execution_count": 14,
   "metadata": {},
   "outputs": [
    {
     "name": "stdout",
     "output_type": "stream",
     "text": [
      "                               open       high        low      close   volume  \\\n",
      "AAPL 2024-07-23 15:59:00  224.87000  225.05000  224.87000  225.00999   597610   \n",
      "     2024-07-23 15:58:00  224.89999  225.00000  224.81000  224.86000   326173   \n",
      "     2024-07-23 15:57:00  224.81000  224.98950  224.77029  224.89000   210295   \n",
      "AMD  2024-07-23 15:59:00  153.95000  154.11000  153.91000  154.00999   442028   \n",
      "     2024-07-23 15:58:00  153.92999  154.02991  153.92000  153.95000   189271   \n",
      "     2024-07-23 15:57:00  153.95000  154.03000  153.92000  153.92500   126803   \n",
      "MSFT 2024-07-23 15:59:00  444.45001  444.92001  444.38000  444.81000   314353   \n",
      "     2024-07-23 15:58:00  444.63000  444.70499  444.38000  444.47000    98341   \n",
      "     2024-07-23 15:57:00  444.39001  444.76999  444.35001  444.54501    82343   \n",
      "NVDA 2024-07-23 15:59:00  122.48500  122.63000  122.37000  122.43000  1920003   \n",
      "\n",
      "                             macd1 macd_signal1 macd_hist1     macd2  \\\n",
      "AAPL 2024-07-23 15:59:00  -0.02337     -0.04617    0.02280  -0.02120   \n",
      "     2024-07-23 15:58:00  -0.04460     -0.05187    0.00727  -0.04963   \n",
      "     2024-07-23 15:57:00  -0.05577     -0.05368   -0.00209  -0.06494   \n",
      "AMD  2024-07-23 15:59:00  -0.20820     -0.17990   -0.02831  -0.24639   \n",
      "     2024-07-23 15:58:00  -0.21353     -0.17282   -0.04071  -0.25571   \n",
      "     2024-07-23 15:57:00  -0.21112     -0.16264   -0.04848  -0.25494   \n",
      "MSFT 2024-07-23 15:59:00   0.13746      0.07538    0.06208   0.17459   \n",
      "     2024-07-23 15:58:00   0.10493      0.05986    0.04507   0.13303   \n",
      "     2024-07-23 15:57:00   0.09649      0.04859    0.04790   0.12416   \n",
      "NVDA 2024-07-23 15:59:00  -0.09465     -0.08140   -0.01326  -0.11230   \n",
      "\n",
      "                         macd_signal2 macd_hist2    slow_k    slow_d  \n",
      "AAPL 2024-07-23 15:59:00     -0.05528    0.03408  71.87430  62.49960  \n",
      "     2024-07-23 15:58:00     -0.06380    0.01417  56.24980  55.20817  \n",
      "     2024-07-23 15:57:00     -0.06734    0.00240  59.37470  49.65244  \n",
      "AMD  2024-07-23 15:59:00     -0.21690   -0.02949  23.60111  17.53724  \n",
      "     2024-07-23 15:58:00     -0.20953   -0.04619  16.04815  15.01959  \n",
      "     2024-07-23 15:57:00     -0.19798   -0.05696  12.96247  15.84282  \n",
      "MSFT 2024-07-23 15:59:00      0.10163    0.07295  91.72824  79.65981  \n",
      "     2024-07-23 15:58:00      0.08340    0.04963  68.08432  72.60238  \n",
      "     2024-07-23 15:57:00      0.07099    0.05317  79.16688  68.03922  \n",
      "NVDA 2024-07-23 15:59:00     -0.09989   -0.01242  30.19728  39.73316  \n"
     ]
    }
   ],
   "source": [
    "# This section is to test a batch\n",
    "\n",
    "end_date = datetime.now()\n",
    "start_date = end_date - timedelta(days=1) \n",
    "test_batch = td.time_series(symbol='AAPL,AMD,MSFT,NVDA', interval=\"1min\", outputsize=3, start_date=start_date.strftime(\"%Y-%m-%d\"),\n",
    "        end_date=end_date.strftime(\"%Y-%m-%d\"))\n",
    "df = test_batch.with_macd().with_macd(fast_period=10).with_stoch().as_pandas()\n",
    "print(df.head(10))"
   ]
  }
 ],
 "metadata": {
  "kernelspec": {
   "display_name": "Python 3",
   "language": "python",
   "name": "python3"
  },
  "language_info": {
   "codemirror_mode": {
    "name": "ipython",
    "version": 3
   },
   "file_extension": ".py",
   "mimetype": "text/x-python",
   "name": "python",
   "nbconvert_exporter": "python",
   "pygments_lexer": "ipython3",
   "version": "3.11.9"
  }
 },
 "nbformat": 4,
 "nbformat_minor": 2
}
