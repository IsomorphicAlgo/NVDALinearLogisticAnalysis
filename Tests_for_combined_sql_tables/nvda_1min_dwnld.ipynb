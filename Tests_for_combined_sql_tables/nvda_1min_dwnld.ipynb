{
 "cells": [
  {
   "cell_type": "code",
   "execution_count": 1,
   "metadata": {},
   "outputs": [],
   "source": [
    "import requests\n",
    "import pandas as pd\n",
    "import json\n",
    "import mysql.connector\n",
    "from datetime import datetime, timedelta\n",
    "import time\n",
    "import nvda_config\n",
    "\n",
    "import twelvedata\n",
    "from twelvedata import TDClient\n"
   ]
  },
  {
   "cell_type": "code",
   "execution_count": 2,
   "metadata": {},
   "outputs": [],
   "source": [
    "# set up login\n",
    "Cpassword = nvda_config.mysql_password\n",
    "td = TDClient(apikey=nvda_config.twelve_api_nvda) \n",
    "base_url = 'https://api.twelvedata.com'\n"
   ]
  },
  {
   "cell_type": "code",
   "execution_count": 3,
   "metadata": {},
   "outputs": [],
   "source": [
    "# Establish MySQL object\n",
    "mydb = mysql.connector.connect(\n",
    "    host=\"localhost\",   \n",
    "    user=\"root\",         \n",
    "    password=Cpassword,  \n",
    "    database=\"bailish_estate\"   \n",
    ")\n",
    "\n",
    "mycursor = mydb.cursor()\n",
    "\n",
    "\n",
    "# Date range for historical data (funky start date due to downloading first month as test batch)\n",
    "focalpoint = datetime.now()\n",
    "end_date = focalpoint - timedelta(days=3) \n",
    "start_date = end_date - timedelta(days=1)  \n",
    "\n",
    "# Twelve Data API parameters\n",
    "symbol = \"NVDA\"\n",
    "interval = \"1min\"\n",
    "outputsize = 5000  "
   ]
  },
  {
   "cell_type": "code",
   "execution_count": 4,
   "metadata": {},
   "outputs": [],
   "source": [
    "\n",
    "\n",
    "# Fetch time series data and indicators\n",
    "NVDA_time_series = td.time_series(\n",
    "    symbol=symbol,\n",
    "    interval=interval,\n",
    "    outputsize=outputsize,\n",
    "    start_date=start_date.strftime(\"%Y-%m-%d\"),\n",
    "    end_date=end_date.strftime(\"%Y-%m-%d\"),\n",
    ").with_macd().with_ema().with_rsi().with_macd(fast_period=10).with_stoch().as_json()\n",
    "\n"
   ]
  },
  {
   "cell_type": "code",
   "execution_count": 5,
   "metadata": {},
   "outputs": [],
   "source": [
    "nvda_time_series_df = pd.DataFrame(NVDA_time_series)\n",
    "nvda_time_series_df['symbol'] = symbol"
   ]
  },
  {
   "cell_type": "code",
   "execution_count": 6,
   "metadata": {},
   "outputs": [
    {
     "name": "stdout",
     "output_type": "stream",
     "text": [
      "                datetime       open       high        low      close    volume   macd_1  ...        ema       rsi   macd_2 macd_signal_2 macd_hist_2    slow_k    slow_d\n",
      "0    2024-08-01 15:59:00  109.02000  109.49000  108.90000  109.33000   3694194  0.20647  ...  108.80605  65.41440  0.25795       0.15051     0.10745  91.06168  87.40443\n",
      "1    2024-08-01 15:58:00  109.00000  109.27000  108.86250  109.02000   2367292  0.16130  ...  108.67506  61.23285  0.19975       0.12365     0.07610  84.07643  81.65385\n",
      "2    2024-08-01 15:57:00  108.79000  109.10000  108.74000  108.98000   1759321  0.13287  ...  108.58883  60.66312  0.16346       0.10462     0.05884  87.07519  69.27467\n",
      "3    2024-08-01 15:56:00  108.40000  108.87000  108.38000  108.78500   1580931  0.09872  ...  108.49103  57.85912  0.11834       0.08991     0.02843  73.80992  52.72132\n",
      "4    2024-08-01 15:55:00  108.25000  108.75970  108.16000  108.39000   2093667  0.07355  ...  108.41754  51.33405  0.08441       0.08280     0.00160  46.93890  47.16571\n",
      "..                   ...        ...        ...        ...        ...       ...      ...  ...        ...       ...      ...           ...         ...       ...       ...\n",
      "385  2024-08-01 09:34:00  117.92000  118.88000  117.85500  118.83050   2495530  0.25937  ...  117.65255  73.14536  0.33764       0.13414     0.20350  97.77780  82.34963\n",
      "386  2024-08-01 09:33:00  117.42000  118.04600  117.29000  117.90830   2508981  0.14732  ...  117.35806  64.09825  0.19027       0.08327     0.10701  90.11875  71.78671\n",
      "387  2024-08-01 09:32:00  117.51000  117.68000  116.68000  117.42000   2445915  0.09605  ...  117.22050  56.97074  0.12353       0.05652     0.06701  59.15233  63.46102\n",
      "388  2024-08-01 09:31:00  117.39000  117.95000  117.14340  117.51000   2157892  0.07893  ...  117.17063  58.97463  0.10267       0.03976     0.06291  66.08905  64.09754\n",
      "389  2024-08-01 09:30:00  117.60000  117.80000  116.93000  117.40000  26311328  0.04677  ...  117.08579  57.26888  0.06052       0.02403     0.03648  65.14168  54.18537\n",
      "\n",
      "[390 rows x 16 columns]\n",
      "                datetime       open       high        low      close    volume   macd_1  ...        ema       rsi   macd_2 macd_signal_2 macd_hist_2    slow_k    slow_d\n",
      "0    2024-08-01 15:59:00  109.02000  109.49000  108.90000  109.33000   3694194  0.20647  ...  108.80605  65.41440  0.25795       0.15051     0.10745  91.06168  87.40443\n",
      "1    2024-08-01 15:58:00  109.00000  109.27000  108.86250  109.02000   2367292  0.16130  ...  108.67506  61.23285  0.19975       0.12365     0.07610  84.07643  81.65385\n",
      "2    2024-08-01 15:57:00  108.79000  109.10000  108.74000  108.98000   1759321  0.13287  ...  108.58883  60.66312  0.16346       0.10462     0.05884  87.07519  69.27467\n",
      "3    2024-08-01 15:56:00  108.40000  108.87000  108.38000  108.78500   1580931  0.09872  ...  108.49103  57.85912  0.11834       0.08991     0.02843  73.80992  52.72132\n",
      "4    2024-08-01 15:55:00  108.25000  108.75970  108.16000  108.39000   2093667  0.07355  ...  108.41754  51.33405  0.08441       0.08280     0.00160  46.93890  47.16571\n",
      "..                   ...        ...        ...        ...        ...       ...      ...  ...        ...       ...      ...           ...         ...       ...       ...\n",
      "385  2024-08-01 09:34:00  117.92000  118.88000  117.85500  118.83050   2495530  0.25937  ...  117.65255  73.14536  0.33764       0.13414     0.20350  97.77780  82.34963\n",
      "386  2024-08-01 09:33:00  117.42000  118.04600  117.29000  117.90830   2508981  0.14732  ...  117.35806  64.09825  0.19027       0.08327     0.10701  90.11875  71.78671\n",
      "387  2024-08-01 09:32:00  117.51000  117.68000  116.68000  117.42000   2445915  0.09605  ...  117.22050  56.97074  0.12353       0.05652     0.06701  59.15233  63.46102\n",
      "388  2024-08-01 09:31:00  117.39000  117.95000  117.14340  117.51000   2157892  0.07893  ...  117.17063  58.97463  0.10267       0.03976     0.06291  66.08905  64.09754\n",
      "389  2024-08-01 09:30:00  117.60000  117.80000  116.93000  117.40000  26311328  0.04677  ...  117.08579  57.26888  0.06052       0.02403     0.03648  65.14168  54.18537\n",
      "\n",
      "[390 rows x 16 columns]\n"
     ]
    }
   ],
   "source": [
    "print(nvda_time_series_df)\n",
    "nvda_time_series_df.to_csv('nvda_time_series_df.csv', index=False)"
   ]
  },
  {
   "cell_type": "code",
   "execution_count": 7,
   "metadata": {},
   "outputs": [],
   "source": [
    "sql_insert = \"\"\"\n",
    "INSERT INTO nvda_db (datetime, open, high, low, close, volume, macd_1, macd_signal_1, macd_hist_1, ema, rsi, macd_2, macd_signal_2, macd_hist_2, slow_k, slow_d)\n",
    "VALUES (%s, %s, %s, %s, %s, %s, %s, %s, %s, %s, %s, %s, %s, %s, %s, %s)  \n",
    "\"\"\"\n",
    "\n",
    "# Ensure data types are compatible\n",
    "nvda_time_series_df[\"volume\"] = nvda_time_series_df[\"volume\"].astype(int)  # Convert to int if needed\n",
    "\n",
    "# Convert DataFrame rows to tuples\n",
    "data_to_insert = [tuple(x) for x in nvda_time_series_df.to_numpy()]\n",
    "\n",
    "# Execute the insert query\n",
    "mycursor.executemany(sql_insert, data_to_insert)\n",
    "mydb.commit()"
   ]
  },
  {
   "cell_type": "code",
   "execution_count": 8,
   "metadata": {},
   "outputs": [],
   "source": [
    "nvda_time_series_df['symbol'] = \"NVDA\""
   ]
  }
 ],
 "metadata": {
  "kernelspec": {
   "display_name": "Python 3",
   "language": "python",
   "name": "python3"
  },
  "language_info": {
   "codemirror_mode": {
    "name": "ipython",
    "version": 3
   },
   "file_extension": ".py",
   "mimetype": "text/x-python",
   "name": "python",
   "nbconvert_exporter": "python",
   "pygments_lexer": "ipython3",
   "version": "3.11.9"
  }
 },
 "nbformat": 4,
 "nbformat_minor": 2
}
