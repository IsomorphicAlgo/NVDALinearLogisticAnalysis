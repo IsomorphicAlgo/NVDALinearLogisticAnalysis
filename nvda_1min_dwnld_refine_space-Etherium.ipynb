{
 "cells": [
  {
   "cell_type": "code",
   "execution_count": 1,
   "metadata": {},
   "outputs": [],
   "source": [
    "import requests\n",
    "import pandas as pd\n",
    "import json\n",
    "import mysql.connector\n",
    "from datetime import datetime, timedelta, timezone\n",
    "import time\n",
    "import nvda_config\n",
    "import twelvedata as td\n",
    "from twelvedata import TDClient\n"
   ]
  },
  {
   "cell_type": "code",
   "execution_count": 2,
   "metadata": {},
   "outputs": [],
   "source": [
    "# set up login\n",
    "Cpassword = nvda_config.mysql_password\n",
    "td = TDClient(apikey=nvda_config.twelve_api_nvda) \n",
    "base_url = 'https://api.twelvedata.com'\n"
   ]
  },
  {
   "cell_type": "code",
   "execution_count": 11,
   "metadata": {},
   "outputs": [],
   "source": [
    "# Estab;ish MySQL object\n",
    "mydb = mysql.connector.connect(\n",
    "    host=\"localhost\",   \n",
    "    user=\"root\",         \n",
    "    password=Cpassword,  \n",
    "    database=\"bailish_estate\"   \n",
    ")\n",
    "\n",
    "mycursor = mydb.cursor()\n",
    "\n",
    "# Twelve Data API parameters\n",
    "symbol = [\"NVDA\", \"SPX\", \"XAU/USD\"]\n",
    "interval = \"1min\"\n",
    "outputsize = 5000 "
   ]
  },
  {
   "cell_type": "code",
   "execution_count": 12,
   "metadata": {},
   "outputs": [
    {
     "name": "stdout",
     "output_type": "stream",
     "text": [
      "Requests elapsed:  1  at time: 2024-08-06 19:02:03.476016\n",
      "Program completed after 390 requests.\n"
     ]
    }
   ],
   "source": [
    "\n",
    "request_count = 0\n",
    "while request_count < 1:\n",
    "        for sym in symbol:\n",
    "                price_pdf = td.price(\n",
    "                symbol=sym\n",
    "                ).as_json()\n",
    "                timestamp = datetime.now(timezone.utc).strftime(\"%Y-%m-%d %H:%M:%S\")  # Current timestamp\n",
    "                \n",
    "                price_df = pd.DataFrame(price_pdf, index=[\"price\"])\n",
    "\n",
    "                data_to_insert = [(sym, timestamp, price_df[\"price\"].values[0])]\n",
    "                # Insert tick data into MySQL\n",
    "                sql_time_series = \"\"\"\n",
    "                INSERT INTO live_price (symbol, datetime, price)\n",
    "                VALUES (%s, %s, %s)\n",
    "                \"\"\"\n",
    "                mycursor.executemany(sql_time_series, data_to_insert)\n",
    "                mydb.commit()\n",
    "\n",
    "                # Increment the request counter\n",
    "        request_count += 1\n",
    "        print(\"Requests elapsed: \", request_count, \" at time:\", datetime.now())\n",
    "        # Sleep for a short period before fetching the next data\n",
    "        time.sleep(59.75) # Adjust the sleep time as needed\n",
    "\n",
    "        print(\"Program completed after 390 requests.\")\n"
   ]
  },
  {
   "cell_type": "code",
   "execution_count": null,
   "metadata": {},
   "outputs": [],
   "source": [
    "print()"
   ]
  },
  {
   "cell_type": "code",
   "execution_count": null,
   "metadata": {},
   "outputs": [],
   "source": [
    "symbol_data = []\n",
    "price_data = []\n",
    "datetime_data = []\n",
    "for symbol in symbol:\n",
    "    # Fetch real-time price\n",
    "    price_pdf = td.price(symbol=symbol)\n",
    "    price_json = price_pdf.as_json()\n",
    "    price_df = pd.DataFrame(pric, index=[\"price\"])\n",
    "    price = price_df[\"price\"][0]\n",
    "\n",
    "    # Generate the current datetime string\n",
    "    datetime_str = datetime.now().strftime(\"%Y-%m-%d %H:%M:%S\")\n",
    "\n",
    "    # Append data to lists\n",
    "    symbol_data.append(symbol)\n",
    "    price_data.append(price)\n",
    "    datetime_data.append(datetime_str)\n",
    "\n",
    "# Create DataFrame\n",
    "df = pd.DataFrame({\"symbol\": symbol_data, \"price\": price_data, \"datetime\": datetime_data})\n",
    "print(df)\n",
    "\n",
    "# Insert data into MySQL (optional)\n",
    "sql_insert = \"\"\"\n",
    "INSERT INTO live_price (symbol, datetime, price)\n",
    "VALUES (%s, %s, %s)\n",
    "\"\"\"\n",
    "for _, row in df.iterrows():\n",
    "    mycursor.execute(sql_insert, tuple(row))\n",
    "    mydb.commit()\n"
   ]
  },
  {
   "cell_type": "code",
   "execution_count": null,
   "metadata": {},
   "outputs": [],
   "source": [
    "\n",
    "def get_earnings_data(ticker, outputsize=50,  start_date = None, end_date = None):\n",
    "    \"\"\"Fetches earnings data for a given stock symbol from Twelve Data.\n",
    "\n",
    "    Args:\n",
    "        symbol (str): The stock symbol (e.g., \"AAPL\", \"NVDA\").\n",
    "        outputsize (int, optional): Number of earnings records to retrieve (default=50, max=5000).\n",
    "        timeframe (str, optional): \n",
    "\n",
    "    Returns:\n",
    "        pd.DataFrame: A pandas DataFrame containing the earnings data.\n",
    "    \"\"\"\n",
    "\n",
    "    res = td.get_earnings(\n",
    "        symbol=ticker,\n",
    "        outputsize=outputsize, \n",
    "        start_date = start_date, \n",
    "        end_date = end_date\n",
    "\n",
    "    )\n",
    "\n",
    "    # Convert the response data to a Pandas DataFrame\n",
    "    df = pd.DataFrame(res.as_json())\n",
    "\n",
    "    return df\n"
   ]
  },
  {
   "cell_type": "code",
   "execution_count": null,
   "metadata": {},
   "outputs": [],
   "source": [
    "# Date range for historical data (funky start date due to downloading first month as test batch)\n",
    "end_date = datetime.now()\n",
    "start_date = end_date - timedelta(days=390)  \n",
    "nvda_earnings_1year = get_earnings_data(\"NVDA\", 1000, start_date, end_date)\n",
    "\n",
    "print(nvda_earnings_1year)"
   ]
  },
  {
   "cell_type": "code",
   "execution_count": null,
   "metadata": {},
   "outputs": [],
   "source": [
    "\n",
    "nvda_earnings_1year.to_csv(symbol + '_earnings.csv', index = False)"
   ]
  }
 ],
 "metadata": {
  "kernelspec": {
   "display_name": "Python 3",
   "language": "python",
   "name": "python3"
  },
  "language_info": {
   "codemirror_mode": {
    "name": "ipython",
    "version": 3
   },
   "file_extension": ".py",
   "mimetype": "text/x-python",
   "name": "python",
   "nbconvert_exporter": "python",
   "pygments_lexer": "ipython3",
   "version": "3.12.4"
  }
 },
 "nbformat": 4,
 "nbformat_minor": 2
}
