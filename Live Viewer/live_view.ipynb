{
 "cells": [
  {
   "cell_type": "code",
   "execution_count": 16,
   "metadata": {},
   "outputs": [],
   "source": [
    "import requests\n",
    "import pandas as pd\n",
    "import json\n",
    "import mysql.connector\n",
    "from datetime import datetime, timedelta\n",
    "import time\n",
    "import nvda_config2\n",
    "\n",
    "import twelvedata\n",
    "from twelvedata import TDClient\n",
    "\n"
   ]
  },
  {
   "cell_type": "code",
   "execution_count": 17,
   "metadata": {},
   "outputs": [],
   "source": [
    "# set up login\n",
    "Cpassword = nvda_config2.mysql_password\n",
    "td = TDClient(apikey=nvda_config2.twelve_api_nvda) \n",
    "base_url = 'https://api.twelvedata.com'\n",
    "\n",
    "# Establish MySQL object\n",
    "mydb = mysql.connector.connect(\n",
    "    host=\"localhost\",   \n",
    "    user=\"root\",         \n",
    "    password=Cpassword,  \n",
    "    database=\"nvdav1\"   \n",
    ")\n",
    "\n",
    "mycursor = mydb.cursor()\n",
    "\n",
    "# Twelve Data API parameters\n",
    "symbol = \"NVDA, SPCE, ABAT, BB, GME, GRRR, MAXN, TOMZ\"\n",
    "interval = \"1min\"\n",
    "outputsize = 5000  "
   ]
  },
  {
   "cell_type": "code",
   "execution_count": 18,
   "metadata": {},
   "outputs": [
    {
     "name": "stdout",
     "output_type": "stream",
     "text": [
      "            NVDA     SPCE     ABAT       BB       GME     GRRR     MAXN  \\\n",
      "price  112.24000  6.72500  1.00000  2.41500  23.95000  2.84000  0.21190   \n",
      "\n",
      "          TOMZ  \n",
      "price  0.73990  \n"
     ]
    }
   ],
   "source": [
    "end_date = datetime.now()\n",
    "start_date = end_date - timedelta(days=1) \n",
    "time_batch = td.time_series(symbol=symbol, interval=interval, outputsize=outputsize, start_date=start_date.strftime(\"%Y-%m-%d\"),\n",
    "        end_date=end_date.strftime(\"%Y-%m-%d\"))\n",
    "df = time_batch.with_macd().with_macd(fast_period=10).with_stoch().as_pandas()\n",
    "\n",
    "price_batch = td.price(symbol=symbol)\n",
    "price_json = price_batch.as_json()\n",
    "price_df = pd.DataFrame(price_json, index=[\"price\"])\n",
    "print(price_df.head(5))\n",
    "\n",
    "df.to_csv('time_data.csv', index=False)\n",
    "price_df.to_csv('price_data.csv', index=False)\n"
   ]
  }
 ],
 "metadata": {
  "kernelspec": {
   "display_name": "Python 3",
   "language": "python",
   "name": "python3"
  },
  "language_info": {
   "codemirror_mode": {
    "name": "ipython",
    "version": 3
   },
   "file_extension": ".py",
   "mimetype": "text/x-python",
   "name": "python",
   "nbconvert_exporter": "python",
   "pygments_lexer": "ipython3",
   "version": "3.12.4"
  }
 },
 "nbformat": 4,
 "nbformat_minor": 2
}
