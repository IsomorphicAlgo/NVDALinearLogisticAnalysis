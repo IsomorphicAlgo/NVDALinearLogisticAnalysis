{
 "cells": [
  {
   "cell_type": "code",
   "execution_count": 7,
   "metadata": {},
   "outputs": [],
   "source": [
    "import requests\n",
    "import pandas as pd\n",
    "import json\n",
    "import mysql.connector\n",
    "from datetime import datetime, timedelta\n",
    "import time\n",
    "import nvda_config2\n",
    "import twelvedata\n",
    "from twelvedata import TDClient\n",
    "\n"
   ]
  },
  {
   "cell_type": "code",
   "execution_count": 8,
   "metadata": {},
   "outputs": [],
   "source": [
    "# set up login\n",
    "Cpassword = nvda_config2.mysql_password\n",
    "td = TDClient(apikey=nvda_config2.twelve_api_nvda) \n",
    "base_url = 'https://api.twelvedata.com'\n",
    "\n",
    "# Establish MySQL object\n",
    "mydb = mysql.connector.connect(\n",
    "    host=\"localhost\",   \n",
    "    user=\"root\",         \n",
    "    password=Cpassword,  \n",
    "    database=\"nvdav1\"   \n",
    ")\n",
    "\n",
    "mycursor = mydb.cursor()\n",
    "\n",
    "# Twelve Data API parameters\n",
    "symbol = \"NVDA, SPCE, ABAT, BB, GME, GRRR, MAXN, TOMZ, XAU/USD, SPX\"\n",
    "interval = \"1min\"\n",
    "outputsize = 5000  "
   ]
  },
  {
   "cell_type": "code",
   "execution_count": 9,
   "metadata": {},
   "outputs": [],
   "source": [
    "#end_date = datetime.now()\n",
    "#start_date = end_date - timedelta(days=3) \n",
    "#time_batch = td.time_series(symbol=symbol, interval=interval, outputsize=outputsize, start_date=start_date.strftime(\"%Y-%m-%d\"),\n",
    "#        end_date=end_date.strftime(\"%Y-%m-%d\"))\n",
    "#df = time_batch.with_macd().with_macd(fast_period=10).with_stoch().as_pandas()\n",
    "\n",
    "#this was a test for the macd and time series combined to one\n"
   ]
  },
  {
   "cell_type": "code",
   "execution_count": 10,
   "metadata": {},
   "outputs": [
    {
     "name": "stdout",
     "output_type": "stream",
     "text": [
      "Price Changes:\n",
      "          Old Price  Difference   New Price\n",
      "NVDA      114.24000      1.9300   116.17000\n",
      "SPCE        6.20660     -0.0366     6.17000\n",
      "ABAT        1.07000      0.0200     1.09000\n",
      "BB          2.21500      0.0550     2.27000\n",
      "GME        22.00190      0.2681    22.27000\n",
      "GRRR        2.40000      0.0400     2.44000\n",
      "MAXN        0.15520     -0.0119     0.14330\n",
      "TOMZ        0.71000      0.0100     0.72000\n",
      "XAU/USD  2470.94000     -5.7900  2465.15000\n",
      "SPX      5395.94000     37.3400  5433.28000\n"
     ]
    }
   ],
   "source": [
    "# Store current prices as old_prices\n",
    "old_prices = price_df.copy() if 'price_df' in locals() else pd.DataFrame()\n",
    "\n",
    "# Get new prices\n",
    "price_batch = td.price(symbol=symbol)\n",
    "price_json = price_batch.as_json()\n",
    "price_df = pd.DataFrame(price_json, index=[\"price\"])\n",
    "\n",
    "# Calculate the difference\n",
    "\n",
    "if not old_prices.empty:\n",
    "    diff = price_df.astype(float) - old_prices.astype(float)\n",
    "    \n",
    "    # Create a DataFrame to store old price, difference, and new price\n",
    "    result_df = pd.DataFrame({\n",
    "        'Old Price': old_prices.iloc[0],\n",
    "        'Difference': diff.iloc[0],\n",
    "        'New Price': price_df.iloc[0]\n",
    "    })\n",
    "    \n",
    "    # Display the results\n",
    "    print(\"Price Changes:\")\n",
    "    print(result_df)\n",
    "else:\n",
    "    print(\"Initial prices:\")\n",
    "    print(price_df)\n",
    "\n",
    "\n",
    "price_df.to_csv('price_data.csv', index=False)"
   ]
  },
  {
   "cell_type": "code",
   "execution_count": null,
   "metadata": {},
   "outputs": [],
   "source": []
  }
 ],
 "metadata": {
  "kernelspec": {
   "display_name": "Python 3",
   "language": "python",
   "name": "python3"
  },
  "language_info": {
   "codemirror_mode": {
    "name": "ipython",
    "version": 3
   },
   "file_extension": ".py",
   "mimetype": "text/x-python",
   "name": "python",
   "nbconvert_exporter": "python",
   "pygments_lexer": "ipython3",
   "version": "3.12.4"
  }
 },
 "nbformat": 4,
 "nbformat_minor": 2
}
