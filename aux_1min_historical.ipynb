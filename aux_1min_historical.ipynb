{
 "cells": [
  {
   "cell_type": "code",
   "execution_count": 8,
   "metadata": {},
   "outputs": [],
   "source": [
    "import requests\n",
    "import pandas as pd\n",
    "import json\n",
    "import mysql.connector\n",
    "from datetime import datetime, timedelta\n",
    "import time\n",
    "import nvda_config\n",
    "\n",
    "import twelvedata\n",
    "from twelvedata import TDClient\n"
   ]
  },
  {
   "cell_type": "code",
   "execution_count": 9,
   "metadata": {},
   "outputs": [],
   "source": [
    "# set up login\n",
    "Cpassword = nvda_config.mysql_password\n",
    "td = TDClient(apikey=nvda_config.twelve_api_nvda) \n",
    "base_url = 'https://api.twelvedata.com'\n"
   ]
  },
  {
   "cell_type": "code",
   "execution_count": 10,
   "metadata": {},
   "outputs": [],
   "source": [
    "# Establish MySQL object\n",
    "mydb = mysql.connector.connect(\n",
    "    host=\"localhost\",   \n",
    "    user=\"root\",         \n",
    "    password=Cpassword,  \n",
    "    database=\"nvdav1\"   \n",
    ")\n",
    "\n",
    "mycursor = mydb.cursor()\n"
   ]
  },
  {
   "cell_type": "code",
   "execution_count": 11,
   "metadata": {},
   "outputs": [],
   "source": [
    "# Date range for historical data (funky start date due to downloading first month as test batch)\n",
    "end_date = datetime.now()\n",
    "start_date = end_date - timedelta(days=390)  \n",
    "\n",
    "# Twelve Data API parameters\n",
    "symbol = \"SPX\"\n",
    "interval = \"1min\"\n",
    "outputsize = 5000  \n",
    "parent_df = pd.DataFrame()  # Initialize an empty parent DataFrame\n",
    "\n",
    "# Increment through the time range in start_date and end_date by 5 days every 30 seconds\n",
    "while start_date < end_date:\n",
    "    time_series = td.time_series(\n",
    "        symbol=symbol,\n",
    "        interval=interval,\n",
    "        outputsize=outputsize,\n",
    "        start_date=start_date.strftime(\"%Y-%m-%d\"),\n",
    "        end_date=(start_date + timedelta(days=5)).strftime(\"%Y-%m-%d\"),\n",
    "    ).with_macd().with_ema().with_rsi()\n",
    "    \n",
    "    # Convert to pandas Dataframes\n",
    "    time_series_df = time_series.as_pandas()\n",
    "    time_series_df = time_series_df.astype(str)\n",
    "    \n",
    "    # Concatenate the current time series DataFrame to the parent DataFrame\n",
    "    parent_df = pd.concat([parent_df, time_series_df], ignore_index=True)\n",
    " \n",
    "    # Increment the start_date\n",
    "    start_date += timedelta(days=5)\n",
    "    \n",
    "    # Sleep for 30 seconds\n",
    "    time.sleep(30)\n",
    "\n",
    "# Print the parent DataFrame to a CSV file\n",
    "parent_df.to_csv('aux_historical_data.csv', index=False)\n"
   ]
  },
  {
   "cell_type": "code",
   "execution_count": null,
   "metadata": {},
   "outputs": [],
   "source": []
  }
 ],
 "metadata": {
  "kernelspec": {
   "display_name": "Python 3",
   "language": "python",
   "name": "python3"
  },
  "language_info": {
   "codemirror_mode": {
    "name": "ipython",
    "version": 3
   },
   "file_extension": ".py",
   "mimetype": "text/x-python",
   "name": "python",
   "nbconvert_exporter": "python",
   "pygments_lexer": "ipython3",
   "version": "3.12.4"
  }
 },
 "nbformat": 4,
 "nbformat_minor": 2
}
