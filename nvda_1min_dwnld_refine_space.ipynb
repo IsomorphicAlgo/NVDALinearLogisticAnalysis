{
 "cells": [
  {
   "cell_type": "code",
   "execution_count": 1,
   "metadata": {},
   "outputs": [],
   "source": [
    "import requests\n",
    "import pandas as pd\n",
    "import json\n",
    "import mysql.connector\n",
    "from datetime import datetime, timedelta, timezone\n",
    "import time\n",
    "import nvda_config\n",
    "import twelvedata as td\n",
    "from twelvedata import TDClient\n"
   ]
  },
  {
   "cell_type": "code",
   "execution_count": 4,
   "metadata": {},
   "outputs": [],
   "source": [
    "# set up login\n",
    "Cpassword = nvda_config.mysql_password\n",
    "td = TDClient(apikey=nvda_config.twelve_api_nvda) \n",
    "base_url = 'https://api.twelvedata.com'\n"
   ]
  },
  {
   "cell_type": "code",
   "execution_count": 9,
   "metadata": {},
   "outputs": [],
   "source": [
    "# Estab;ish MySQL object\n",
    "mydb = mysql.connector.connect(\n",
    "    host=\"localhost\",   \n",
    "    user=\"root\",         \n",
    "    password=Cpassword,  \n",
    "    database=\"nvdav1\"   \n",
    ")\n",
    "\n",
    "mycursor = mydb.cursor()\n",
    "\n",
    "# Twelve Data API parameters\n",
    "symbol = \"NVDA\"\n",
    "interval = \"1min\"\n",
    "outputsize = 5000 "
   ]
  },
  {
   "cell_type": "code",
   "execution_count": 37,
   "metadata": {},
   "outputs": [
    {
     "name": "stdout",
     "output_type": "stream",
     "text": [
      "Requests elapsed:  4  at time: 2024-08-04 22:03:02.680491\n",
      "Requests elapsed:  4  at time: 2024-08-04 22:03:02.680491\n"
     ]
    }
   ],
   "source": [
    "\n",
    "\n",
    "# Initialize a counter for the number of requests\n",
    "request_count = 0\n",
    "\n",
    "while request_count < 390:\n",
    "    # Fetch time series data and indicators\n",
    "    price_pdf = td.price(\n",
    "        symbol=symbol\n",
    "    )\n",
    "    # Convert to pandas Dataframes\n",
    "    price_json = price_pdf.as_json()\n",
    "    price_df = pd.DataFrame(price_json, index=[\"price\"])\n",
    "\n",
    "    # Prepare for database insertion\n",
    "    time_series_data = []\n",
    "\n",
    "    # Process and align data\n",
    "    for index, row in price_df.iterrows():\n",
    "        # Generate the current datetime string\n",
    "        datetime_str = datetime.now().strftime(\"%Y-%m-%d %H:%M:%S\")\n",
    "\n",
    "        time_series_data.append(\n",
    "            (\n",
    "                symbol,\n",
    "                datetime_str,\n",
    "                row[\"price\"]\n",
    "            )\n",
    "        )\n",
    "\n",
    "    # Insert tick data into MySQL\n",
    "    sql_time_series = \"\"\"\n",
    "    INSERT INTO nvda_new (symbol, datetime, price)\n",
    "    VALUES (%s, %s, %s)\n",
    "    \"\"\"\n",
    "    mycursor.executemany(sql_time_series, time_series_data)\n",
    "    mydb.commit()\n",
    "\n",
    "    # Increment the request counter\n",
    "    request_count += 1\n",
    "    print(\"Requests elapsed: \", request_count, \" at time:\", datetime.now())\n",
    "    # Sleep for a short period before fetching the next data\n",
    "    time.sleep(59.75)  # Adjust the sleep time as needed\n",
    "\n",
    "print(\"Program completed after 390 requests.\")\n"
   ]
  },
  {
   "cell_type": "code",
   "execution_count": 5,
   "metadata": {},
   "outputs": [],
   "source": [
    "\n",
    "def get_earnings_data(ticker, outputsize=50,  start_date = None, end_date = None):\n",
    "    \"\"\"Fetches earnings data for a given stock symbol from Twelve Data.\n",
    "\n",
    "    Args:\n",
    "        symbol (str): The stock symbol (e.g., \"AAPL\", \"NVDA\").\n",
    "        outputsize (int, optional): Number of earnings records to retrieve (default=50, max=5000).\n",
    "        timeframe (str, optional): \n",
    "\n",
    "    Returns:\n",
    "        pd.DataFrame: A pandas DataFrame containing the earnings data.\n",
    "    \"\"\"\n",
    "\n",
    "    res = td.get_earnings(\n",
    "        symbol=ticker,\n",
    "        outputsize=outputsize, \n",
    "        start_date = start_date, \n",
    "        end_date = end_date\n",
    "\n",
    "    )\n",
    "\n",
    "    # Convert the response data to a Pandas DataFrame\n",
    "    df = pd.DataFrame(res.as_json())\n",
    "\n",
    "    return df\n"
   ]
  },
  {
   "cell_type": "code",
   "execution_count": 6,
   "metadata": {},
   "outputs": [
    {
     "name": "stdout",
     "output_type": "stream",
     "text": [
      "         date               time  eps_estimate  eps_actual  difference  surprise_prc\n",
      "0  2024-06-02     Transfer Agent          5.59        6.12        0.53          9.48\n",
      "1  2024-05-23     Transfer Agent          0.56        0.61        0.05          8.93\n",
      "2  2024-03-18  Time Not Supplied          4.63        5.16        0.53         11.45\n",
      "3  2024-02-15     Transfer Agent          4.63        5.16        0.53         11.45\n",
      "4  2024-01-17     Transfer Agent          3.37        4.02        0.65         19.29\n",
      "5  2024-01-08     Transfer Agent          3.37        4.02        0.65         19.29\n",
      "6  2023-11-21     Transfer Agent          3.37        4.02        0.65         19.29\n",
      "7  2023-08-23     Transfer Agent          2.09        2.70        0.61         29.19\n",
      "         date               time  eps_estimate  eps_actual  difference  surprise_prc\n",
      "0  2024-06-02     Transfer Agent          5.59        6.12        0.53          9.48\n",
      "1  2024-05-23     Transfer Agent          0.56        0.61        0.05          8.93\n",
      "2  2024-03-18  Time Not Supplied          4.63        5.16        0.53         11.45\n",
      "3  2024-02-15     Transfer Agent          4.63        5.16        0.53         11.45\n",
      "4  2024-01-17     Transfer Agent          3.37        4.02        0.65         19.29\n",
      "5  2024-01-08     Transfer Agent          3.37        4.02        0.65         19.29\n",
      "6  2023-11-21     Transfer Agent          3.37        4.02        0.65         19.29\n",
      "7  2023-08-23     Transfer Agent          2.09        2.70        0.61         29.19\n"
     ]
    }
   ],
   "source": [
    "# Date range for historical data (funky start date due to downloading first month as test batch)\n",
    "end_date = datetime.now()\n",
    "start_date = end_date - timedelta(days=390)  \n",
    "nvda_earnings_1year = get_earnings_data(\"NVDA\", 1000, start_date, end_date)\n",
    "\n",
    "print(nvda_earnings_1year)"
   ]
  },
  {
   "cell_type": "code",
   "execution_count": 10,
   "metadata": {},
   "outputs": [],
   "source": [
    "\n",
    "nvda_earnings_1year.to_csv(symbol + '_earnings.csv', index = False)"
   ]
  }
 ],
 "metadata": {
  "kernelspec": {
   "display_name": "Python 3",
   "language": "python",
   "name": "python3"
  },
  "language_info": {
   "codemirror_mode": {
    "name": "ipython",
    "version": 3
   },
   "file_extension": ".py",
   "mimetype": "text/x-python",
   "name": "python",
   "nbconvert_exporter": "python",
   "pygments_lexer": "ipython3",
   "version": "3.12.4"
  }
 },
 "nbformat": 4,
 "nbformat_minor": 2
}
