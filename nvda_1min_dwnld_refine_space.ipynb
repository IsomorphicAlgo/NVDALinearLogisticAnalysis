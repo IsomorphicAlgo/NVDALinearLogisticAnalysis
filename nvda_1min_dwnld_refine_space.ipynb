{
 "cells": [
  {
   "cell_type": "code",
   "execution_count": 152,
   "metadata": {},
   "outputs": [],
   "source": [
    "import requests\n",
    "import pandas as pd\n",
    "import json\n",
    "import mysql.connector\n",
    "from datetime import datetime, timedelta, timezone\n",
    "import time\n",
    "import nvda_config\n",
    "import twelvedata as td\n",
    "from twelvedata import TDClient\n"
   ]
  },
  {
   "cell_type": "code",
   "execution_count": 153,
   "metadata": {},
   "outputs": [],
   "source": [
    "# set up login\n",
    "Cpassword = nvda_config.mysql_password\n",
    "td = TDClient(apikey=nvda_config.twelve_api_nvda) \n",
    "base_url = 'https://api.twelvedata.com'\n"
   ]
  },
  {
   "cell_type": "code",
   "execution_count": 154,
   "metadata": {},
   "outputs": [],
   "source": [
    "# Estab;ish MySQL object\n",
    "mydb = mysql.connector.connect(\n",
    "    host=\"localhost\",   \n",
    "    user=\"root\",         \n",
    "    password=Cpassword,  \n",
    "    database=\"nvdav1\"   \n",
    ")\n",
    "\n",
    "mycursor = mydb.cursor()\n",
    "\n",
    "\n"
   ]
  },
  {
   "cell_type": "code",
   "execution_count": 155,
   "metadata": {},
   "outputs": [
    {
     "name": "stdout",
     "output_type": "stream",
     "text": [
      "markets closed\n",
      "markets closed\n",
      "markets closed\n"
     ]
    },
    {
     "ename": "KeyboardInterrupt",
     "evalue": "",
     "output_type": "error",
     "traceback": [
      "\u001b[1;31m---------------------------------------------------------------------------\u001b[0m",
      "\u001b[1;31mKeyboardInterrupt\u001b[0m                         Traceback (most recent call last)",
      "Cell \u001b[1;32mIn[155], line 54\u001b[0m\n\u001b[0;32m     49\u001b[0m     mycursor\u001b[38;5;241m.\u001b[39mexecutemany(sql_time_series, time_series_data)\n\u001b[0;32m     52\u001b[0m \u001b[38;5;28;01melse\u001b[39;00m:\n\u001b[0;32m     53\u001b[0m     \u001b[38;5;66;03m# Sleep for a short period before checking the time again\u001b[39;00m\n\u001b[1;32m---> 54\u001b[0m     \u001b[43mtime\u001b[49m\u001b[38;5;241;43m.\u001b[39;49m\u001b[43msleep\u001b[49m\u001b[43m(\u001b[49m\u001b[38;5;241;43m10\u001b[39;49m\u001b[43m)\u001b[49m\n\u001b[0;32m     55\u001b[0m     \u001b[38;5;28mprint\u001b[39m(\u001b[38;5;124m\"\u001b[39m\u001b[38;5;124mmarkets closed\u001b[39m\u001b[38;5;124m\"\u001b[39m)\n",
      "\u001b[1;31mKeyboardInterrupt\u001b[0m: "
     ]
    }
   ],
   "source": [
    "\n",
    "from datetime import datetime, timedelta\n",
    "import pytz\n",
    "\n",
    "# Define the start and end times in Eastern Time\n",
    "eastern = pytz.timezone('US/Eastern')\n",
    "start_time = eastern.localize(datetime.strptime(\"09:30\", \"%H:%M\").replace(year=datetime.now().year, month=datetime.now().month, day=datetime.now().day))\n",
    "end_time = eastern.localize(datetime.strptime(\"16:00\", \"%H:%M\").replace(year=datetime.now().year, month=datetime.now().month, day=datetime.now().day))\n",
    "\n",
    "# Twelve Data API parameters\n",
    "symbol = \"NVDA\"\n",
    "interval = \"1min\"\n",
    "outputsize = 5000 \n",
    "\n",
    "# Fetch data in chunks\n",
    "current_date = (datetime.now(pytz.utc) - timedelta(minutes=1)).date()  # Corrected to get the date one minute ago in UTC\n",
    "requests_made = 0\n",
    "while True:\n",
    "    current_time = datetime.now(pytz.utc).astimezone(eastern)\n",
    "    \n",
    "    if start_time.time() <= current_time.time() <= end_time.time():\n",
    "       # Fetch time series data and indicators\n",
    "        price_pdf = td.price(\n",
    "            symbol=symbol\n",
    "        )\n",
    "        # Convert to pandas Dataframes\n",
    "        price_json = price_pdf.as_json()\n",
    "        price_df = pd.DataFrame(price_json)\n",
    "        # Prepare for database insertion\n",
    "        time_series_data = []\n",
    "\n",
    "        # Process and align data\n",
    "        for index, row in price_df.iterrows():\n",
    "            # Extract the datetime string (already in correct format)\n",
    "            datetime_str = row.name.strftime(\"%Y-%m-%d %H:%M:%S\")\n",
    "\n",
    "            time_series_data.append(\n",
    "                (\n",
    "                    symbol,\n",
    "                    datetime_str,\n",
    "                    row[\"price\"]\n",
    "                )\n",
    "            )\n",
    "\n",
    "        # Insert tick data into MySQL\n",
    "        sql_time_series = \"\"\"\n",
    "        INSERT INTO nvda_new (symbol, datetime, price)\n",
    "        VALUES (%s, %s, %s)\n",
    "        \"\"\"\n",
    "        mycursor.executemany(sql_time_series, time_series_data)\n",
    "\n",
    "        \n",
    "    else:\n",
    "        # Sleep for a short period before checking the time again\n",
    "        time.sleep(10)\n",
    "        print(\"markets closed\")\n"
   ]
  },
  {
   "cell_type": "code",
   "execution_count": null,
   "metadata": {},
   "outputs": [],
   "source": []
  }
 ],
 "metadata": {
  "kernelspec": {
   "display_name": "Python 3",
   "language": "python",
   "name": "python3"
  },
  "language_info": {
   "codemirror_mode": {
    "name": "ipython",
    "version": 3
   },
   "file_extension": ".py",
   "mimetype": "text/x-python",
   "name": "python",
   "nbconvert_exporter": "python",
   "pygments_lexer": "ipython3",
   "version": "3.11.9"
  }
 },
 "nbformat": 4,
 "nbformat_minor": 2
}
