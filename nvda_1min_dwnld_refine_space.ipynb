{
 "cells": [
  {
   "cell_type": "code",
   "execution_count": 5,
   "metadata": {},
   "outputs": [],
   "source": [
    "import requests\n",
    "import pandas as pd\n",
    "import json\n",
    "import mysql.connector\n",
    "from datetime import datetime, timedelta, timezone\n",
    "import time\n",
    "import nvda_config\n",
    "import twelvedata as td\n",
    "from twelvedata import TDClient\n"
   ]
  },
  {
   "cell_type": "code",
   "execution_count": 6,
   "metadata": {},
   "outputs": [],
   "source": [
    "# set up login\n",
    "Cpassword = nvda_config.mysql_password\n",
    "td = TDClient(apikey=nvda_config.twelve_api_nvda) \n",
    "base_url = 'https://api.twelvedata.com'\n"
   ]
  },
  {
   "cell_type": "code",
   "execution_count": 7,
   "metadata": {},
   "outputs": [],
   "source": [
    "# Estab;ish MySQL object\n",
    "mydb = mysql.connector.connect(\n",
    "    host=\"localhost\",   \n",
    "    user=\"root\",         \n",
    "    password=Cpassword,  \n",
    "    database=\"nvdav1\"   \n",
    ")\n",
    "\n",
    "mycursor = mydb.cursor()\n",
    "\n",
    "\n"
   ]
  },
  {
   "cell_type": "code",
   "execution_count": 8,
   "metadata": {},
   "outputs": [
    {
     "ename": "",
     "evalue": "",
     "output_type": "error",
     "traceback": [
      "\u001b[1;31mThe Kernel crashed while executing code in the current cell or a previous cell. \n",
      "\u001b[1;31mPlease review the code in the cell(s) to identify a possible cause of the failure. \n",
      "\u001b[1;31mClick <a href='https://aka.ms/vscodeJupyterKernelCrash'>here</a> for more info. \n",
      "\u001b[1;31mView Jupyter <a href='command:jupyter.viewOutput'>log</a> for further details."
     ]
    }
   ],
   "source": [
    "\n",
    "\n",
    "# Twelve Data API parameters\n",
    "symbol = \"NVDA\"\n",
    "interval = \"1min\"\n",
    "outputsize = 5000 \n",
    "\n",
    "\n",
    "while True:\n",
    "    # Fetch time series data and indicators\n",
    "    price_pdf = td.price(\n",
    "        symbol=symbol\n",
    "    )\n",
    "    # Convert to pandas Dataframes\n",
    "    price_json = price_pdf.as_json()\n",
    "    price_df = pd.DataFrame(price_json, index=[\"price\"])\n",
    "\n",
    "    # Prepare for database insertion\n",
    "    time_series_data = []\n",
    "\n",
    "    # Process and align data\n",
    "    for index, row in price_df.iterrows():\n",
    "        # Generate the current datetime string\n",
    "        datetime_str = datetime.now().strftime(\"%Y-%m-%d %H:%M:%S\")\n",
    "\n",
    "        time_series_data.append(\n",
    "            (\n",
    "                symbol,\n",
    "                datetime_str,\n",
    "                row[\"price\"]\n",
    "            )\n",
    "        )\n",
    "\n",
    "    # Insert tick data into MySQL\n",
    "    sql_time_series = \"\"\"\n",
    "    INSERT INTO nvda_new (symbol, datetime, price)\n",
    "    VALUES (%s, %s, %s)\n",
    "    \"\"\"\n",
    "    mycursor.executemany(sql_time_series, time_series_data)\n",
    "    mydb.commit()\n",
    "\n",
    "    # Sleep for a short period before fetching the next data\n",
    "    time.sleep(60)  # Adjust the sleep time as needed\n"
   ]
  },
  {
   "cell_type": "code",
   "execution_count": null,
   "metadata": {},
   "outputs": [],
   "source": []
  }
 ],
 "metadata": {
  "kernelspec": {
   "display_name": "Python 3",
   "language": "python",
   "name": "python3"
  },
  "language_info": {
   "codemirror_mode": {
    "name": "ipython",
    "version": 3
   },
   "file_extension": ".py",
   "mimetype": "text/x-python",
   "name": "python",
   "nbconvert_exporter": "python",
   "pygments_lexer": "ipython3",
   "version": "3.11.9"
  }
 },
 "nbformat": 4,
 "nbformat_minor": 2
}
